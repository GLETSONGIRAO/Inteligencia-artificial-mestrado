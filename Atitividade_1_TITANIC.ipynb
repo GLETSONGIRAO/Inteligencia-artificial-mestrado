{
 "cells": [
  {
   "cell_type": "markdown",
   "id": "0bbcd795",
   "metadata": {},
   "source": [
    "# Trabalho Prático 1 - Implementação KNN\n",
    "\n",
    "Neste notebook será implementado um algoritmo de KNN para criar um modelo, que será usado para prever quais passegeiros obreviveram ao naufágio do Titanic.\n",
    "\n",
    "## Sumário\n",
    "1. Implementação do Algoritmo KNN\n",
    "2. Setup\n",
    "3. Pré processamento\n",
    "4. Aplicação e avaliação do modelo\n",
    "5. Considerações finais"
   ]
  },
  {
   "cell_type": "code",
   "execution_count": 1,
   "id": "dd607527",
   "metadata": {},
   "outputs": [],
   "source": [
    "# importação das bibliotecas e pacotes usados neste notebook\n",
    "import numpy as np\n",
    "import seaborn as sns\n",
    "import pandas as pd\n",
    "\n",
    "from sklearn.model_selection import train_test_split\n",
    "from sklearn.metrics import accuracy_score"
   ]
  },
  {
   "cell_type": "markdown",
   "id": "aa8c83d4",
   "metadata": {},
   "source": [
    "### 1. Implementação do Algoritmo para criar um modelo KNN"
   ]
  },
  {
   "cell_type": "code",
   "execution_count": 2,
   "id": "7936cce2",
   "metadata": {},
   "outputs": [],
   "source": [
    "class KNN():\n",
    "    \n",
    "    def __init(self):\n",
    "        self.K = None\n",
    "        self.X_train = None\n",
    "        self.y_train = None\n",
    "        self.vizinhos_index = None\n",
    "        \n",
    "    def fit(self, X_train, y_train):\n",
    "        self.X_train = X_train\n",
    "        self.y_train = y_train\n",
    "        \n",
    "    def predict(self, X, K=1):\n",
    "        self.K = K\n",
    "        classes = np.unique(self.y_train)\n",
    "        y_pred = []\n",
    "        dist_total = []\n",
    "        self.vizinhos_index = []\n",
    "\n",
    "        for xi in X:\n",
    "            euclidistancias = -2 * xi @ self.X_train.T + (xi**2).sum() + (self.X_train**2).sum(axis=1)\n",
    "            \n",
    "            \n",
    "            knn_index = np.argsort(euclidistancias)[0:K]\n",
    "            self.vizinhos_index.append(knn_index)\n",
    "            contagem = []\n",
    "            dist_total = []\n",
    "            \n",
    "            for classe in classes:\n",
    "                contagem.append((self.y_train[knn_index]==classe).sum())\n",
    "                dist_classe = np.sum(euclidistancias[knn_index][self.y_train[knn_index]==classe])\n",
    "                dist_total.append(dist_classe)\n",
    "                \n",
    "            contagem = np.array(contagem)\n",
    "            \n",
    "            #criar lista de classes empatadas\n",
    "            indice_classes_empatadas = []\n",
    "            for i in range(len(contagem)):\n",
    "                if contagem[i] == max(contagem):\n",
    "                    indice_classes_empatadas.append(i)\n",
    "            \n",
    "            # Popular y_pred com as duas regras de decisão: \n",
    "                # Se não empate: classe com maior votação\n",
    "                # Se empate: classe com menor distância entre as classes empatadas\n",
    "            \n",
    "            dist_total = np.array(dist_total)\n",
    "\n",
    "            if len(indice_classes_empatadas) == 1:\n",
    "                pred_index = np.argmax(contagem)\n",
    "                y_pred.append(classes[pred_index])\n",
    "                \n",
    "                \n",
    "    \n",
    "            else:\n",
    "                # menor valor das distancias totais que estão com a mesma quantidade de votos\n",
    "                menor_valor = np.min(dist_total[indice_classes_empatadas])\n",
    "                \n",
    "                # indice da menor distancia contando todas as distâncias\n",
    "                indice_menor_dist = np.where(dist_total == menor_valor)[0][0]\n",
    "                \n",
    "                # Predição pra essa instância = Classe que tem a menor distancia\n",
    "                y_pred.append(classes[indice_menor_dist])\n",
    "            \n",
    "\n",
    "            \n",
    "        return np.array(y_pred)"
   ]
  },
  {
   "cell_type": "markdown",
   "id": "498578ec",
   "metadata": {},
   "source": [
    "### 2. Setup"
   ]
  },
  {
   "cell_type": "markdown",
   "id": "6a58e6cb",
   "metadata": {},
   "source": [
    "### Dataset Titanic\n",
    "\n",
    "#### Descrição dos dados:\n",
    "\n",
    "* y (Target) → 0 = Não sobreviveu, 1 = Sobreviveu → Categórica (transformada em numérica)\n",
    "* pclass → Classe do bilhete → 1: Primeira classe, 2: Segunda classe, 3: Terceira classe (Categórica em forma de números)\n",
    "* sex → Sexo (Categórica)\n",
    "* Age → Idade em anos (numérica)\n",
    "* sibsp → Número de irmãos / cônjuges abordo do titanic (numérica discreta)\n",
    "* parch → Número de pais / filhos abordo (numérica discreta)\n",
    "* ticket → Número do ticket (categórica em forma de número)\n",
    "* fare → Valor do bilhete (numérico)\n",
    "* cabin → id da cabine (complexa / mista)\n",
    "* embarked → porto do embarque → C = Cherbourg, Q = Queenstown, S = Southampton"
   ]
  },
  {
   "cell_type": "code",
   "execution_count": 3,
   "id": "8314f882",
   "metadata": {},
   "outputs": [],
   "source": [
    "from sklearn.datasets import fetch_openml\n",
    "titanic = fetch_openml(name='titanic',version = 1,as_frame=True)"
   ]
  },
  {
   "cell_type": "code",
   "execution_count": 4,
   "id": "b09335d0",
   "metadata": {},
   "outputs": [],
   "source": [
    "X = titanic.data\n",
    "y = titanic.target"
   ]
  },
  {
   "cell_type": "code",
   "execution_count": 5,
   "id": "be80e4da",
   "metadata": {
    "scrolled": true
   },
   "outputs": [
    {
     "data": {
      "text/html": [
       "<div>\n",
       "<style scoped>\n",
       "    .dataframe tbody tr th:only-of-type {\n",
       "        vertical-align: middle;\n",
       "    }\n",
       "\n",
       "    .dataframe tbody tr th {\n",
       "        vertical-align: top;\n",
       "    }\n",
       "\n",
       "    .dataframe thead th {\n",
       "        text-align: right;\n",
       "    }\n",
       "</style>\n",
       "<table border=\"1\" class=\"dataframe\">\n",
       "  <thead>\n",
       "    <tr style=\"text-align: right;\">\n",
       "      <th></th>\n",
       "      <th>pclass</th>\n",
       "      <th>name</th>\n",
       "      <th>sex</th>\n",
       "      <th>age</th>\n",
       "      <th>sibsp</th>\n",
       "      <th>parch</th>\n",
       "      <th>ticket</th>\n",
       "      <th>fare</th>\n",
       "      <th>cabin</th>\n",
       "      <th>embarked</th>\n",
       "      <th>boat</th>\n",
       "      <th>body</th>\n",
       "      <th>home.dest</th>\n",
       "    </tr>\n",
       "  </thead>\n",
       "  <tbody>\n",
       "    <tr>\n",
       "      <th>0</th>\n",
       "      <td>1.0</td>\n",
       "      <td>Allen, Miss. Elisabeth Walton</td>\n",
       "      <td>female</td>\n",
       "      <td>29.0000</td>\n",
       "      <td>0.0</td>\n",
       "      <td>0.0</td>\n",
       "      <td>24160</td>\n",
       "      <td>211.3375</td>\n",
       "      <td>B5</td>\n",
       "      <td>S</td>\n",
       "      <td>2</td>\n",
       "      <td>NaN</td>\n",
       "      <td>St Louis, MO</td>\n",
       "    </tr>\n",
       "    <tr>\n",
       "      <th>1</th>\n",
       "      <td>1.0</td>\n",
       "      <td>Allison, Master. Hudson Trevor</td>\n",
       "      <td>male</td>\n",
       "      <td>0.9167</td>\n",
       "      <td>1.0</td>\n",
       "      <td>2.0</td>\n",
       "      <td>113781</td>\n",
       "      <td>151.5500</td>\n",
       "      <td>C22 C26</td>\n",
       "      <td>S</td>\n",
       "      <td>11</td>\n",
       "      <td>NaN</td>\n",
       "      <td>Montreal, PQ / Chesterville, ON</td>\n",
       "    </tr>\n",
       "  </tbody>\n",
       "</table>\n",
       "</div>"
      ],
      "text/plain": [
       "   pclass                            name     sex      age  sibsp  parch  \\\n",
       "0     1.0   Allen, Miss. Elisabeth Walton  female  29.0000    0.0    0.0   \n",
       "1     1.0  Allison, Master. Hudson Trevor    male   0.9167    1.0    2.0   \n",
       "\n",
       "   ticket      fare    cabin embarked boat  body  \\\n",
       "0   24160  211.3375       B5        S    2   NaN   \n",
       "1  113781  151.5500  C22 C26        S   11   NaN   \n",
       "\n",
       "                         home.dest  \n",
       "0                     St Louis, MO  \n",
       "1  Montreal, PQ / Chesterville, ON  "
      ]
     },
     "execution_count": 5,
     "metadata": {},
     "output_type": "execute_result"
    }
   ],
   "source": [
    "X.head(2)"
   ]
  },
  {
   "cell_type": "code",
   "execution_count": 6,
   "id": "ee0242f8",
   "metadata": {},
   "outputs": [
    {
     "data": {
      "text/plain": [
       "(1309, 13)"
      ]
     },
     "execution_count": 6,
     "metadata": {},
     "output_type": "execute_result"
    }
   ],
   "source": [
    "X.shape"
   ]
  },
  {
   "cell_type": "code",
   "execution_count": 8,
   "id": "d5aebf71",
   "metadata": {},
   "outputs": [
    {
     "data": {
      "text/plain": [
       "((981, 13), (328, 13))"
      ]
     },
     "execution_count": 8,
     "metadata": {},
     "output_type": "execute_result"
    }
   ],
   "source": [
    "# Separando em treino e teste (25%)\n",
    "X_train_, X_test, y_train_, y_test = train_test_split(X, y, test_size=0.25, random_state=13)\n",
    "X_train_.shape, X_test.shape"
   ]
  },
  {
   "cell_type": "code",
   "execution_count": 9,
   "id": "83fc88a0",
   "metadata": {},
   "outputs": [
    {
     "data": {
      "text/plain": [
       "((882, 13), (99, 13))"
      ]
     },
     "execution_count": 9,
     "metadata": {},
     "output_type": "execute_result"
    }
   ],
   "source": [
    "# Separando o treino em treino e validação (10% do treino)\n",
    "X_train, X_val, y_train, y_val = train_test_split(X_train_, y_train_, test_size=0.10, random_state=13)\n",
    "X_train.shape, X_val.shape"
   ]
  },
  {
   "cell_type": "code",
   "execution_count": 10,
   "id": "5314a79a",
   "metadata": {},
   "outputs": [
    {
     "data": {
      "text/plain": [
       "pclass        float64\n",
       "name           object\n",
       "sex          category\n",
       "age           float64\n",
       "sibsp         float64\n",
       "parch         float64\n",
       "ticket         object\n",
       "fare          float64\n",
       "cabin          object\n",
       "embarked     category\n",
       "boat           object\n",
       "body          float64\n",
       "home.dest      object\n",
       "dtype: object"
      ]
     },
     "execution_count": 10,
     "metadata": {},
     "output_type": "execute_result"
    }
   ],
   "source": [
    "# separar as variáveis numéricas e categóricas\n",
    "    # Explorando as variáveis\n",
    "X_train.dtypes"
   ]
  },
  {
   "cell_type": "code",
   "execution_count": null,
   "id": "52763636",
   "metadata": {},
   "outputs": [],
   "source": [
    "# Transformar pclass em categórica novamente (usar map)"
   ]
  },
  {
   "cell_type": "code",
   "execution_count": null,
   "id": "991b2fe2",
   "metadata": {},
   "outputs": [],
   "source": [
    "#Separar X_num e X_cat"
   ]
  }
 ],
 "metadata": {
  "kernelspec": {
   "display_name": "Python 3 (ipykernel)",
   "language": "python",
   "name": "python3"
  },
  "language_info": {
   "codemirror_mode": {
    "name": "ipython",
    "version": 3
   },
   "file_extension": ".py",
   "mimetype": "text/x-python",
   "name": "python",
   "nbconvert_exporter": "python",
   "pygments_lexer": "ipython3",
   "version": "3.9.11"
  }
 },
 "nbformat": 4,
 "nbformat_minor": 5
}
