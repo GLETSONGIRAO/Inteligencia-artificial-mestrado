{
 "cells": [
  {
   "cell_type": "markdown",
   "id": "0bbcd795",
   "metadata": {},
   "source": [
    "# Trabalho Prático 1 - Implementação KNN\n",
    "\n",
    "Neste notebook será implementado um algoritmo de KNN para criar um modelo, que será usado para prever quais passegeiros obreviveram ao naufágio do Titanic.\n",
    "\n",
    "## Sumário\n",
    "1. Implementação do Algoritmo KNN\n",
    "2. Setup e tratamento dos dados\n",
    "3. Aplicação e avaliação do modelo"
   ]
  },
  {
   "cell_type": "code",
   "execution_count": 1,
   "id": "dd607527",
   "metadata": {},
   "outputs": [],
   "source": [
    "# importação das bibliotecas e pacotes usados neste notebook\n",
    "import numpy as np\n",
    "import seaborn as sns\n",
    "import pandas as pd\n",
    "import matplotlib.pyplot as plt\n",
    "\n",
    "from sklearn.model_selection import train_test_split\n",
    "from sklearn.metrics import accuracy_score\n",
    "from sklearn.preprocessing import OneHotEncoder\n",
    "from sklearn.preprocessing import StandardScaler\n",
    "from sklearn.compose import make_column_transformer\n",
    "from sklearn.metrics import classification_report\n"
   ]
  },
  {
   "cell_type": "markdown",
   "id": "aa8c83d4",
   "metadata": {},
   "source": [
    "### 1. Implementação do Algoritmo para criar um modelo KNN"
   ]
  },
  {
   "cell_type": "code",
   "execution_count": 2,
   "id": "7936cce2",
   "metadata": {},
   "outputs": [],
   "source": [
    "class KNN():\n",
    "    \n",
    "    def __init(self):\n",
    "        self.K = None\n",
    "        self.X_train = None\n",
    "        self.y_train = None\n",
    "        self.vizinhos_index = None\n",
    "        \n",
    "    def fit(self, X_train, y_train):\n",
    "        self.X_train = X_train\n",
    "        self.y_train = y_train\n",
    "        \n",
    "    def predict(self, X, K=1):\n",
    "        self.K = K\n",
    "        classes = np.unique(self.y_train)\n",
    "        y_pred = []\n",
    "        dist_total = []\n",
    "        self.vizinhos_index = []\n",
    "\n",
    "        for xi in X:\n",
    "            euclidistancias = -2 * xi @ self.X_train.T + (xi**2).sum() + (self.X_train**2).sum(axis=1)\n",
    "            \n",
    "            \n",
    "            knn_index = np.argsort(euclidistancias)[0:K]\n",
    "            self.vizinhos_index.append(knn_index)\n",
    "            contagem = []\n",
    "            dist_total = []\n",
    "            \n",
    "            for classe in classes:\n",
    "                contagem.append((self.y_train[knn_index]==classe).sum())\n",
    "                dist_classe = np.sum(euclidistancias[knn_index][self.y_train[knn_index]==classe])\n",
    "                dist_total.append(dist_classe)\n",
    "                \n",
    "            contagem = np.array(contagem)\n",
    "            \n",
    "            #criar lista de classes empatadas\n",
    "            indice_classes_empatadas = []\n",
    "            for i in range(len(contagem)):\n",
    "                if contagem[i] == max(contagem):\n",
    "                    indice_classes_empatadas.append(i)\n",
    "            \n",
    "            # Popular y_pred com as duas regras de decisão: \n",
    "                # Se não empate: classe com maior votação\n",
    "                # Se empate: classe com menor distância entre as classes empatadas\n",
    "            \n",
    "            dist_total = np.array(dist_total)\n",
    "\n",
    "            if len(indice_classes_empatadas) == 1:\n",
    "                pred_index = np.argmax(contagem)\n",
    "                y_pred.append(classes[pred_index])\n",
    "                \n",
    "                \n",
    "    \n",
    "            else:\n",
    "                # menor valor das distancias totais que estão com a mesma quantidade de votos\n",
    "                menor_valor = np.min(dist_total[indice_classes_empatadas])\n",
    "                \n",
    "                # indice da menor distancia contando todas as distâncias\n",
    "                indice_menor_dist = np.where(dist_total == menor_valor)[0][0]\n",
    "                \n",
    "                # Predição pra essa instância = Classe que tem a menor distancia\n",
    "                y_pred.append(classes[indice_menor_dist])\n",
    "            \n",
    "\n",
    "            \n",
    "        return np.array(y_pred)"
   ]
  },
  {
   "cell_type": "markdown",
   "id": "498578ec",
   "metadata": {},
   "source": [
    "### 2. Setup e exploração inicial"
   ]
  },
  {
   "cell_type": "markdown",
   "id": "6a58e6cb",
   "metadata": {},
   "source": [
    "### Dataset Titanic\n",
    "\n",
    "#### Descrição dos dados:\n",
    "\n",
    "* y (Target) → 0 = Não sobreviveu, 1 = Sobreviveu → Categórica (transformada em numérica)\n",
    "* pclass → Classe do bilhete → 1: Primeira classe, 2: Segunda classe, 3: Terceira classe (Categórica em forma de números)\n",
    "* sex → Sexo (Categórica)\n",
    "* Age → Idade em anos (numérica)\n",
    "* sibsp → Número de irmãos / cônjuges abordo do titanic (numérica discreta)\n",
    "* parch → Número de pais / filhos abordo (numérica discreta)\n",
    "* ticket → Número do ticket (categórica em forma de número)\n",
    "* fare → Valor do bilhete (numérico)\n",
    "* cabin → id da cabine (complexa / mista)\n",
    "* embarked → porto do embarque → C = Cherbourg, Q = Queenstown, S = Southampton"
   ]
  },
  {
   "cell_type": "code",
   "execution_count": 3,
   "id": "8314f882",
   "metadata": {},
   "outputs": [],
   "source": [
    "from sklearn.datasets import fetch_openml\n",
    "titanic = fetch_openml(name='titanic',version = 1,as_frame=True)"
   ]
  },
  {
   "cell_type": "code",
   "execution_count": 4,
   "id": "b09335d0",
   "metadata": {},
   "outputs": [],
   "source": [
    "X = titanic.data\n",
    "X = X.drop(['boat', 'body', 'name', 'home.dest'], axis = 1)\n",
    "y = titanic.target"
   ]
  },
  {
   "cell_type": "code",
   "execution_count": 5,
   "id": "48456221",
   "metadata": {
    "scrolled": false
   },
   "outputs": [
    {
     "name": "stdout",
     "output_type": "stream",
     "text": [
      "<class 'pandas.core.frame.DataFrame'>\n",
      "RangeIndex: 1309 entries, 0 to 1308\n",
      "Data columns (total 9 columns):\n",
      " #   Column    Non-Null Count  Dtype   \n",
      "---  ------    --------------  -----   \n",
      " 0   pclass    1309 non-null   float64 \n",
      " 1   sex       1309 non-null   category\n",
      " 2   age       1046 non-null   float64 \n",
      " 3   sibsp     1309 non-null   float64 \n",
      " 4   parch     1309 non-null   float64 \n",
      " 5   ticket    1309 non-null   object  \n",
      " 6   fare      1308 non-null   float64 \n",
      " 7   cabin     295 non-null    object  \n",
      " 8   embarked  1307 non-null   category\n",
      "dtypes: category(2), float64(5), object(2)\n",
      "memory usage: 74.5+ KB\n"
     ]
    }
   ],
   "source": [
    "X.info()"
   ]
  },
  {
   "cell_type": "code",
   "execution_count": 6,
   "id": "69b9f69b",
   "metadata": {},
   "outputs": [
    {
     "data": {
      "text/plain": [
       "pclass         0\n",
       "sex            0\n",
       "age          263\n",
       "sibsp          0\n",
       "parch          0\n",
       "ticket         0\n",
       "fare           1\n",
       "cabin       1014\n",
       "embarked       2\n",
       "dtype: int64"
      ]
     },
     "execution_count": 6,
     "metadata": {},
     "output_type": "execute_result"
    }
   ],
   "source": [
    "X.isna().sum()"
   ]
  },
  {
   "cell_type": "markdown",
   "id": "b11d9a54",
   "metadata": {},
   "source": [
    "* age, fare e embarked precisam ser preenchidos\n",
    "* cabin pode ser dropado\n",
    "* OBS: Instâncias de treino e \"novas\" devem ser preenchidas"
   ]
  },
  {
   "cell_type": "code",
   "execution_count": 7,
   "id": "be80e4da",
   "metadata": {
    "scrolled": true
   },
   "outputs": [
    {
     "data": {
      "text/html": [
       "<div>\n",
       "<style scoped>\n",
       "    .dataframe tbody tr th:only-of-type {\n",
       "        vertical-align: middle;\n",
       "    }\n",
       "\n",
       "    .dataframe tbody tr th {\n",
       "        vertical-align: top;\n",
       "    }\n",
       "\n",
       "    .dataframe thead th {\n",
       "        text-align: right;\n",
       "    }\n",
       "</style>\n",
       "<table border=\"1\" class=\"dataframe\">\n",
       "  <thead>\n",
       "    <tr style=\"text-align: right;\">\n",
       "      <th></th>\n",
       "      <th>pclass</th>\n",
       "      <th>sex</th>\n",
       "      <th>age</th>\n",
       "      <th>sibsp</th>\n",
       "      <th>parch</th>\n",
       "      <th>ticket</th>\n",
       "      <th>fare</th>\n",
       "      <th>cabin</th>\n",
       "      <th>embarked</th>\n",
       "    </tr>\n",
       "  </thead>\n",
       "  <tbody>\n",
       "    <tr>\n",
       "      <th>0</th>\n",
       "      <td>1.0</td>\n",
       "      <td>female</td>\n",
       "      <td>29.0000</td>\n",
       "      <td>0.0</td>\n",
       "      <td>0.0</td>\n",
       "      <td>24160</td>\n",
       "      <td>211.3375</td>\n",
       "      <td>B5</td>\n",
       "      <td>S</td>\n",
       "    </tr>\n",
       "    <tr>\n",
       "      <th>1</th>\n",
       "      <td>1.0</td>\n",
       "      <td>male</td>\n",
       "      <td>0.9167</td>\n",
       "      <td>1.0</td>\n",
       "      <td>2.0</td>\n",
       "      <td>113781</td>\n",
       "      <td>151.5500</td>\n",
       "      <td>C22 C26</td>\n",
       "      <td>S</td>\n",
       "    </tr>\n",
       "  </tbody>\n",
       "</table>\n",
       "</div>"
      ],
      "text/plain": [
       "   pclass     sex      age  sibsp  parch  ticket      fare    cabin embarked\n",
       "0     1.0  female  29.0000    0.0    0.0   24160  211.3375       B5        S\n",
       "1     1.0    male   0.9167    1.0    2.0  113781  151.5500  C22 C26        S"
      ]
     },
     "execution_count": 7,
     "metadata": {},
     "output_type": "execute_result"
    }
   ],
   "source": [
    "X.head(2)"
   ]
  },
  {
   "cell_type": "code",
   "execution_count": 8,
   "id": "d5aebf71",
   "metadata": {},
   "outputs": [
    {
     "data": {
      "text/plain": [
       "((981, 9), (328, 9))"
      ]
     },
     "execution_count": 8,
     "metadata": {},
     "output_type": "execute_result"
    }
   ],
   "source": [
    "# Separando em treino e teste (25%)\n",
    "X_train_, X_test, y_train_, y_test = train_test_split(X, y, test_size=0.25, random_state=13)\n",
    "X_train_.shape, X_test.shape"
   ]
  },
  {
   "cell_type": "code",
   "execution_count": 9,
   "id": "83fc88a0",
   "metadata": {},
   "outputs": [
    {
     "data": {
      "text/plain": [
       "((882, 9), (99, 9))"
      ]
     },
     "execution_count": 9,
     "metadata": {},
     "output_type": "execute_result"
    }
   ],
   "source": [
    "# Separando o treino em treino e validação (10% do treino)\n",
    "X_train, X_val, y_train, y_val = train_test_split(X_train_, y_train_, test_size=0.10, random_state=13)\n",
    "X_train.shape, X_val.shape"
   ]
  },
  {
   "cell_type": "code",
   "execution_count": 10,
   "id": "1e84df3e",
   "metadata": {
    "scrolled": false
   },
   "outputs": [
    {
     "data": {
      "text/html": [
       "<div>\n",
       "<style scoped>\n",
       "    .dataframe tbody tr th:only-of-type {\n",
       "        vertical-align: middle;\n",
       "    }\n",
       "\n",
       "    .dataframe tbody tr th {\n",
       "        vertical-align: top;\n",
       "    }\n",
       "\n",
       "    .dataframe thead th {\n",
       "        text-align: right;\n",
       "    }\n",
       "</style>\n",
       "<table border=\"1\" class=\"dataframe\">\n",
       "  <thead>\n",
       "    <tr style=\"text-align: right;\">\n",
       "      <th></th>\n",
       "      <th>pclass</th>\n",
       "      <th>sex</th>\n",
       "      <th>age</th>\n",
       "      <th>sibsp</th>\n",
       "      <th>parch</th>\n",
       "      <th>ticket</th>\n",
       "      <th>fare</th>\n",
       "      <th>cabin</th>\n",
       "      <th>embarked</th>\n",
       "    </tr>\n",
       "  </thead>\n",
       "  <tbody>\n",
       "    <tr>\n",
       "      <th>720</th>\n",
       "      <td>3.0</td>\n",
       "      <td>male</td>\n",
       "      <td>24.0</td>\n",
       "      <td>0.0</td>\n",
       "      <td>0.0</td>\n",
       "      <td>371109</td>\n",
       "      <td>7.25</td>\n",
       "      <td>None</td>\n",
       "      <td>Q</td>\n",
       "    </tr>\n",
       "    <tr>\n",
       "      <th>565</th>\n",
       "      <td>2.0</td>\n",
       "      <td>male</td>\n",
       "      <td>25.0</td>\n",
       "      <td>0.0</td>\n",
       "      <td>0.0</td>\n",
       "      <td>C.A. 29178</td>\n",
       "      <td>13.00</td>\n",
       "      <td>None</td>\n",
       "      <td>S</td>\n",
       "    </tr>\n",
       "  </tbody>\n",
       "</table>\n",
       "</div>"
      ],
      "text/plain": [
       "     pclass   sex   age  sibsp  parch      ticket   fare cabin embarked\n",
       "720     3.0  male  24.0    0.0    0.0      371109   7.25  None        Q\n",
       "565     2.0  male  25.0    0.0    0.0  C.A. 29178  13.00  None        S"
      ]
     },
     "execution_count": 10,
     "metadata": {},
     "output_type": "execute_result"
    }
   ],
   "source": [
    "X_train.head(2)"
   ]
  },
  {
   "cell_type": "code",
   "execution_count": 11,
   "id": "50d28f43",
   "metadata": {},
   "outputs": [],
   "source": [
    "#Separar X_num e X_cat\n",
    "\n",
    "num_cols = ['age', 'sibsp', 'parch', 'fare']\n",
    "cat_cols = ['pclass', 'sex', 'embarked']"
   ]
  },
  {
   "cell_type": "markdown",
   "id": "796a9c0f",
   "metadata": {},
   "source": [
    "# Variáveis numéricas\n",
    "* Explorar distribuições\n",
    "* Imputar valores faltantes\n",
    "* Transformar distribuição se necessário\n",
    "* Detectar e tratar outliers (treino)\n",
    "* Matriz de correlação\n",
    "* Dropar variáveis se necessário"
   ]
  },
  {
   "cell_type": "code",
   "execution_count": 12,
   "id": "ea0cdcc6",
   "metadata": {
    "scrolled": false
   },
   "outputs": [
    {
     "data": {
      "text/plain": [
       "Text(0, 0.5, 'Frequency')"
      ]
     },
     "execution_count": 12,
     "metadata": {},
     "output_type": "execute_result"
    },
    {
     "data": {
      "image/png": "[encoded data removed]",
      "text/plain": [
       "<Figure size 432x288 with 1 Axes>"
      ]
     },
     "metadata": {
      "needs_background": "light"
     },
     "output_type": "display_data"
    }
   ],
   "source": [
    "# Distribuição da feature age\n",
    "\n",
    "g = sns.kdeplot(X_train[\"age\"])\n",
    "g.set_xlabel(\"age\")\n",
    "g.set_ylabel(\"Frequency\")"
   ]
  },
  {
   "cell_type": "code",
   "execution_count": 13,
   "id": "64bfe3ba",
   "metadata": {
    "scrolled": true
   },
   "outputs": [
    {
     "data": {
      "text/plain": [
       "Text(0, 0.5, 'Frequency')"
      ]
     },
     "execution_count": 13,
     "metadata": {},
     "output_type": "execute_result"
    },
    {
     "data": {
      "image/png": "[encoded data removed]",
      "text/plain": [
       "<Figure size 432x288 with 1 Axes>"
      ]
     },
     "metadata": {
      "needs_background": "light"
     },
     "output_type": "display_data"
    }
   ],
   "source": [
    "# Distribuição da feature fare\n",
    "\n",
    "g = sns.kdeplot(X_train[\"fare\"])\n",
    "g.set_xlabel(\"fare\")\n",
    "g.set_ylabel(\"Frequency\")"
   ]
  },
  {
   "cell_type": "code",
   "execution_count": 14,
   "id": "7c34c27a",
   "metadata": {},
   "outputs": [
    {
     "data": {
      "text/plain": [
       "Text(0, 0.5, 'Frequency')"
      ]
     },
     "execution_count": 14,
     "metadata": {},
     "output_type": "execute_result"
    },
    {
     "data": {
      "image/png": "[encoded data removed]",
      "text/plain": [
       "<Figure size 432x288 with 1 Axes>"
      ]
     },
     "metadata": {
      "needs_background": "light"
     },
     "output_type": "display_data"
    }
   ],
   "source": [
    "# Distribuição da feature parch\n",
    "\n",
    "\n",
    "g = sns.countplot(x = X_train[\"parch\"])\n",
    "g.set_xlabel(\"parch\")\n",
    "g.set_ylabel(\"Frequency\")"
   ]
  },
  {
   "cell_type": "code",
   "execution_count": 15,
   "id": "67a3f0b9",
   "metadata": {},
   "outputs": [
    {
     "data": {
      "text/plain": [
       "Text(0, 0.5, 'Frequency')"
      ]
     },
     "execution_count": 15,
     "metadata": {},
     "output_type": "execute_result"
    },
    {
     "data": {
      "image/png": "[encoded data removed]",
      "text/plain": [
       "<Figure size 432x288 with 1 Axes>"
      ]
     },
     "metadata": {
      "needs_background": "light"
     },
     "output_type": "display_data"
    }
   ],
   "source": [
    "# Distribuição da feature sibsp\n",
    "\n",
    "\n",
    "g = sns.countplot(x = X_train[\"sibsp\"])\n",
    "g.set_xlabel(\"sibsp\")\n",
    "g.set_ylabel(\"Frequency\")"
   ]
  },
  {
   "cell_type": "code",
   "execution_count": 16,
   "id": "eaf3415d",
   "metadata": {},
   "outputs": [],
   "source": [
    "# Tratamento da feature age\n",
    "# Imputação de dados nulos pela mediana\n",
    "\n",
    "X_train['age'] = X_train['age'].fillna(X_train['age'].median())\n",
    "X_val['age'] = X_val['age'].fillna(X_train['age'].median())\n",
    "X_test['age'] = X_test['age'].fillna(X_train['age'].median())"
   ]
  },
  {
   "cell_type": "code",
   "execution_count": 17,
   "id": "55e8628f",
   "metadata": {
    "scrolled": false
   },
   "outputs": [
    {
     "data": {
      "text/plain": [
       "Text(0, 0.5, 'Frequency')"
      ]
     },
     "execution_count": 17,
     "metadata": {},
     "output_type": "execute_result"
    },
    {
     "data": {
      "image/png": "[encoded data removed]",
      "text/plain": [
       "<Figure size 432x288 with 1 Axes>"
      ]
     },
     "metadata": {
      "needs_background": "light"
     },
     "output_type": "display_data"
    }
   ],
   "source": [
    "# Tratamento da feature fare\n",
    "# Imputação de dados nulos pela mediana\n",
    "# Log transformação\n",
    "\n",
    "X_train['fare'] = X_train['fare'].fillna(X_train['fare'].median())\n",
    "X_val['fare'] = X_val['fare'].fillna(X_train['fare'].median())\n",
    "X_test['fare'] = X_test['fare'].fillna(X_train['fare'].median())\n",
    "\n",
    "X_train[\"fare\"] = X_train[\"fare\"].map(lambda i: np.log(i) if i > 0 else 0)\n",
    "X_val[\"fare\"] = X_val[\"fare\"].map(lambda i: np.log(i) if i > 0 else 0)\n",
    "X_test[\"fare\"] = X_test[\"fare\"].map(lambda i: np.log(i) if i > 0 else 0)\n",
    "\n",
    "\n",
    "g = sns.kdeplot(X_train[\"fare\"])\n",
    "g.set_xlabel(\"fare\")\n",
    "g.set_ylabel(\"Frequency\")\n"
   ]
  },
  {
   "cell_type": "code",
   "execution_count": 18,
   "id": "c32acd3a",
   "metadata": {
    "scrolled": false
   },
   "outputs": [
    {
     "data": {
      "image/png": "[encoded data removed]",
      "text/plain": [
       "<Figure size 432x288 with 2 Axes>"
      ]
     },
     "metadata": {
      "needs_background": "light"
     },
     "output_type": "display_data"
    }
   ],
   "source": [
    "#Exploraração das correlações\n",
    "temp = pd.concat([X_train[num_cols], y_train], axis = 1)\n",
    "temp['survived'] = pd.to_numeric(temp['survived'])\n",
    "\n",
    "corr_matrix = temp.corr()\n",
    "\n",
    "g = sns.heatmap(corr_matrix ,cmap=\"Blues\",annot=True)"
   ]
  },
  {
   "cell_type": "code",
   "execution_count": 19,
   "id": "b1ecc15c",
   "metadata": {},
   "outputs": [
    {
     "data": {
      "text/html": [
       "<div>\n",
       "<style scoped>\n",
       "    .dataframe tbody tr th:only-of-type {\n",
       "        vertical-align: middle;\n",
       "    }\n",
       "\n",
       "    .dataframe tbody tr th {\n",
       "        vertical-align: top;\n",
       "    }\n",
       "\n",
       "    .dataframe thead th {\n",
       "        text-align: right;\n",
       "    }\n",
       "</style>\n",
       "<table border=\"1\" class=\"dataframe\">\n",
       "  <thead>\n",
       "    <tr style=\"text-align: right;\">\n",
       "      <th></th>\n",
       "      <th>pclass</th>\n",
       "      <th>sex</th>\n",
       "      <th>age</th>\n",
       "      <th>sibsp</th>\n",
       "      <th>parch</th>\n",
       "      <th>ticket</th>\n",
       "      <th>fare</th>\n",
       "      <th>cabin</th>\n",
       "      <th>embarked</th>\n",
       "    </tr>\n",
       "  </thead>\n",
       "  <tbody>\n",
       "    <tr>\n",
       "      <th>720</th>\n",
       "      <td>3.0</td>\n",
       "      <td>male</td>\n",
       "      <td>24.00</td>\n",
       "      <td>0.0</td>\n",
       "      <td>0.0</td>\n",
       "      <td>371109</td>\n",
       "      <td>1.981001</td>\n",
       "      <td>None</td>\n",
       "      <td>Q</td>\n",
       "    </tr>\n",
       "    <tr>\n",
       "      <th>565</th>\n",
       "      <td>2.0</td>\n",
       "      <td>male</td>\n",
       "      <td>25.00</td>\n",
       "      <td>0.0</td>\n",
       "      <td>0.0</td>\n",
       "      <td>C.A. 29178</td>\n",
       "      <td>2.564949</td>\n",
       "      <td>None</td>\n",
       "      <td>S</td>\n",
       "    </tr>\n",
       "    <tr>\n",
       "      <th>1182</th>\n",
       "      <td>3.0</td>\n",
       "      <td>female</td>\n",
       "      <td>21.00</td>\n",
       "      <td>0.0</td>\n",
       "      <td>0.0</td>\n",
       "      <td>343120</td>\n",
       "      <td>2.034706</td>\n",
       "      <td>None</td>\n",
       "      <td>S</td>\n",
       "    </tr>\n",
       "    <tr>\n",
       "      <th>1038</th>\n",
       "      <td>3.0</td>\n",
       "      <td>male</td>\n",
       "      <td>28.25</td>\n",
       "      <td>0.0</td>\n",
       "      <td>0.0</td>\n",
       "      <td>374746</td>\n",
       "      <td>2.085672</td>\n",
       "      <td>None</td>\n",
       "      <td>S</td>\n",
       "    </tr>\n",
       "    <tr>\n",
       "      <th>209</th>\n",
       "      <td>1.0</td>\n",
       "      <td>male</td>\n",
       "      <td>30.00</td>\n",
       "      <td>1.0</td>\n",
       "      <td>0.0</td>\n",
       "      <td>13236</td>\n",
       "      <td>4.056123</td>\n",
       "      <td>C78</td>\n",
       "      <td>C</td>\n",
       "    </tr>\n",
       "  </tbody>\n",
       "</table>\n",
       "</div>"
      ],
      "text/plain": [
       "      pclass     sex    age  sibsp  parch      ticket      fare cabin embarked\n",
       "720      3.0    male  24.00    0.0    0.0      371109  1.981001  None        Q\n",
       "565      2.0    male  25.00    0.0    0.0  C.A. 29178  2.564949  None        S\n",
       "1182     3.0  female  21.00    0.0    0.0      343120  2.034706  None        S\n",
       "1038     3.0    male  28.25    0.0    0.0      374746  2.085672  None        S\n",
       "209      1.0    male  30.00    1.0    0.0       13236  4.056123   C78        C"
      ]
     },
     "execution_count": 19,
     "metadata": {},
     "output_type": "execute_result"
    }
   ],
   "source": [
    "X_train.head()"
   ]
  },
  {
   "cell_type": "markdown",
   "id": "a0a812fb",
   "metadata": {},
   "source": [
    "* Apenas fare parece ter uma correlação significativa com a variável alvo"
   ]
  },
  {
   "cell_type": "code",
   "execution_count": 20,
   "id": "79d90324",
   "metadata": {},
   "outputs": [],
   "source": [
    "scaler = make_column_transformer(\n",
    "    (StandardScaler(), ['age','fare']),\n",
    "    remainder='passthrough')\n",
    "\n",
    "scaler.fit(X_train)\n",
    "\n",
    "scaled_train = scaler.transform(X_train)\n",
    "scaled_val= scaler.transform(X_val)\n",
    "scaled_test= scaler.transform(X_test)\n",
    "\n",
    "X_train = pd.DataFrame(\n",
    "    scaled_train, \n",
    "    columns= ['age','fare', 'pclass','sex', 'sibsp', 'parch', 'ticket', 'cabin', 'embarked']\n",
    ")\n",
    "\n",
    "X_val = pd.DataFrame(\n",
    "    scaled_val, \n",
    "    columns= ['age','fare', 'pclass','sex', 'sibsp', 'parch', 'ticket', 'cabin', 'embarked']\n",
    ")\n",
    "\n",
    "X_test = pd.DataFrame(\n",
    "    scaled_test, \n",
    "    columns= ['age','fare', 'pclass','sex', 'sibsp', 'parch', 'ticket', 'cabin', 'embarked']\n",
    ")"
   ]
  },
  {
   "cell_type": "code",
   "execution_count": 21,
   "id": "9315702a",
   "metadata": {},
   "outputs": [
    {
     "data": {
      "text/plain": [
       "array(['standardscaler__age', 'standardscaler__fare', 'remainder__pclass',\n",
       "       'remainder__sex', 'remainder__sibsp', 'remainder__parch',\n",
       "       'remainder__ticket', 'remainder__cabin', 'remainder__embarked'],\n",
       "      dtype=object)"
      ]
     },
     "execution_count": 21,
     "metadata": {},
     "output_type": "execute_result"
    }
   ],
   "source": [
    "scaler.get_feature_names_out()"
   ]
  },
  {
   "cell_type": "code",
   "execution_count": 22,
   "id": "95f63c72",
   "metadata": {},
   "outputs": [
    {
     "data": {
      "text/html": [
       "<div>\n",
       "<style scoped>\n",
       "    .dataframe tbody tr th:only-of-type {\n",
       "        vertical-align: middle;\n",
       "    }\n",
       "\n",
       "    .dataframe tbody tr th {\n",
       "        vertical-align: top;\n",
       "    }\n",
       "\n",
       "    .dataframe thead th {\n",
       "        text-align: right;\n",
       "    }\n",
       "</style>\n",
       "<table border=\"1\" class=\"dataframe\">\n",
       "  <thead>\n",
       "    <tr style=\"text-align: right;\">\n",
       "      <th></th>\n",
       "      <th>age</th>\n",
       "      <th>fare</th>\n",
       "      <th>pclass</th>\n",
       "      <th>sex</th>\n",
       "      <th>sibsp</th>\n",
       "      <th>parch</th>\n",
       "      <th>ticket</th>\n",
       "      <th>cabin</th>\n",
       "      <th>embarked</th>\n",
       "    </tr>\n",
       "  </thead>\n",
       "  <tbody>\n",
       "    <tr>\n",
       "      <th>0</th>\n",
       "      <td>-0.426683</td>\n",
       "      <td>-0.927385</td>\n",
       "      <td>3.0</td>\n",
       "      <td>male</td>\n",
       "      <td>0.0</td>\n",
       "      <td>0.0</td>\n",
       "      <td>371109</td>\n",
       "      <td>None</td>\n",
       "      <td>Q</td>\n",
       "    </tr>\n",
       "    <tr>\n",
       "      <th>1</th>\n",
       "      <td>-0.350697</td>\n",
       "      <td>-0.33879</td>\n",
       "      <td>2.0</td>\n",
       "      <td>male</td>\n",
       "      <td>0.0</td>\n",
       "      <td>0.0</td>\n",
       "      <td>C.A. 29178</td>\n",
       "      <td>None</td>\n",
       "      <td>S</td>\n",
       "    </tr>\n",
       "    <tr>\n",
       "      <th>2</th>\n",
       "      <td>-0.654642</td>\n",
       "      <td>-0.873253</td>\n",
       "      <td>3.0</td>\n",
       "      <td>female</td>\n",
       "      <td>0.0</td>\n",
       "      <td>0.0</td>\n",
       "      <td>343120</td>\n",
       "      <td>None</td>\n",
       "      <td>S</td>\n",
       "    </tr>\n",
       "    <tr>\n",
       "      <th>3</th>\n",
       "      <td>-0.103742</td>\n",
       "      <td>-0.821881</td>\n",
       "      <td>3.0</td>\n",
       "      <td>male</td>\n",
       "      <td>0.0</td>\n",
       "      <td>0.0</td>\n",
       "      <td>374746</td>\n",
       "      <td>None</td>\n",
       "      <td>S</td>\n",
       "    </tr>\n",
       "    <tr>\n",
       "      <th>4</th>\n",
       "      <td>0.029234</td>\n",
       "      <td>1.164249</td>\n",
       "      <td>1.0</td>\n",
       "      <td>male</td>\n",
       "      <td>1.0</td>\n",
       "      <td>0.0</td>\n",
       "      <td>13236</td>\n",
       "      <td>C78</td>\n",
       "      <td>C</td>\n",
       "    </tr>\n",
       "  </tbody>\n",
       "</table>\n",
       "</div>"
      ],
      "text/plain": [
       "        age      fare pclass     sex sibsp parch      ticket cabin embarked\n",
       "0 -0.426683 -0.927385    3.0    male   0.0   0.0      371109  None        Q\n",
       "1 -0.350697  -0.33879    2.0    male   0.0   0.0  C.A. 29178  None        S\n",
       "2 -0.654642 -0.873253    3.0  female   0.0   0.0      343120  None        S\n",
       "3 -0.103742 -0.821881    3.0    male   0.0   0.0      374746  None        S\n",
       "4  0.029234  1.164249    1.0    male   1.0   0.0       13236   C78        C"
      ]
     },
     "execution_count": 22,
     "metadata": {},
     "output_type": "execute_result"
    }
   ],
   "source": [
    "X_train.head()"
   ]
  },
  {
   "cell_type": "markdown",
   "id": "d5c90a32",
   "metadata": {},
   "source": [
    "# Variáveis Categóricas\n",
    "* Explorar distribuições\n",
    "* Imputar valores faltantes\n",
    "* Transformar em numérico\n",
    "* Correlação"
   ]
  },
  {
   "cell_type": "code",
   "execution_count": 23,
   "id": "b13cf64a",
   "metadata": {},
   "outputs": [
    {
     "data": {
      "text/plain": [
       "['pclass', 'sex', 'embarked']"
      ]
     },
     "execution_count": 23,
     "metadata": {},
     "output_type": "execute_result"
    }
   ],
   "source": [
    "cat_cols"
   ]
  },
  {
   "cell_type": "code",
   "execution_count": 24,
   "id": "9efac95c",
   "metadata": {},
   "outputs": [
    {
     "data": {
      "text/plain": [
       "Text(0, 0.5, 'Frequency')"
      ]
     },
     "execution_count": 24,
     "metadata": {},
     "output_type": "execute_result"
    },
    {
     "data": {
      "image/png": "[encoded data removed]",
      "text/plain": [
       "<Figure size 432x288 with 1 Axes>"
      ]
     },
     "metadata": {
      "needs_background": "light"
     },
     "output_type": "display_data"
    }
   ],
   "source": [
    "# Distribuição da feature pclass\n",
    "\n",
    "\n",
    "g = sns.countplot(x = X_train[\"pclass\"])\n",
    "g.set_xlabel(\"pclass\")\n",
    "g.set_ylabel(\"Frequency\")"
   ]
  },
  {
   "cell_type": "code",
   "execution_count": 25,
   "id": "3ae1b7b6",
   "metadata": {
    "scrolled": true
   },
   "outputs": [
    {
     "data": {
      "text/plain": [
       "Text(0, 0.5, 'Frequency')"
      ]
     },
     "execution_count": 25,
     "metadata": {},
     "output_type": "execute_result"
    },
    {
     "data": {
      "image/png": "[encoded data removed]",
      "text/plain": [
       "<Figure size 432x288 with 1 Axes>"
      ]
     },
     "metadata": {
      "needs_background": "light"
     },
     "output_type": "display_data"
    }
   ],
   "source": [
    "# Distribuição da feature sex\n",
    "\n",
    "g = sns.countplot(x = X_train[\"sex\"])\n",
    "g.set_xlabel(\"sex\")\n",
    "g.set_ylabel(\"Frequency\")"
   ]
  },
  {
   "cell_type": "code",
   "execution_count": 26,
   "id": "5b7fd9fb",
   "metadata": {
    "scrolled": true
   },
   "outputs": [
    {
     "data": {
      "text/plain": [
       "Text(0, 0.5, 'Frequency')"
      ]
     },
     "execution_count": 26,
     "metadata": {},
     "output_type": "execute_result"
    },
    {
     "data": {
      "image/png": "[encoded data removed]",
      "text/plain": [
       "<Figure size 432x288 with 1 Axes>"
      ]
     },
     "metadata": {
      "needs_background": "light"
     },
     "output_type": "display_data"
    }
   ],
   "source": [
    "# Distribuição da feature embarked\n",
    "\n",
    "g = sns.countplot(x = X_train[\"embarked\"])\n",
    "g.set_xlabel(\"embarked\")\n",
    "g.set_ylabel(\"Frequency\")"
   ]
  },
  {
   "cell_type": "code",
   "execution_count": 27,
   "id": "52763636",
   "metadata": {},
   "outputs": [],
   "source": [
    "# Transformar sexo em numérico\n",
    "X_train['sex'] = X_train['sex'].map({\"male\":0, \"female\":1})\n",
    "X_val['sex'] = X_val['sex'].map({\"male\":0, \"female\":1})\n",
    "X_test['sex'] = X_test['sex'].map({\"male\":0, \"female\":1})\n"
   ]
  },
  {
   "cell_type": "code",
   "execution_count": 28,
   "id": "0e39ec9e",
   "metadata": {},
   "outputs": [],
   "source": [
    "# Imputar embarked com modo\n",
    "\n",
    "X_train['embarked'] = X_train['embarked'].fillna('S')\n",
    "X_val['embarked'] = X_val['embarked'].fillna('S')\n",
    "X_test['embarked'] = X_test['embarked'].fillna('S')"
   ]
  },
  {
   "cell_type": "code",
   "execution_count": 29,
   "id": "c439db7d",
   "metadata": {
    "scrolled": false
   },
   "outputs": [
    {
     "name": "stderr",
     "output_type": "stream",
     "text": [
      "C:\\Users\\glets\\.conda\\envs\\ds\\lib\\site-packages\\sklearn\\utils\\deprecation.py:87: FutureWarning: Function get_feature_names is deprecated; get_feature_names is deprecated in 1.0 and will be removed in 1.2. Please use get_feature_names_out instead.\n",
      "  warnings.warn(msg, category=FutureWarning)\n",
      "C:\\Users\\glets\\.conda\\envs\\ds\\lib\\site-packages\\sklearn\\utils\\deprecation.py:87: FutureWarning: Function get_feature_names is deprecated; get_feature_names is deprecated in 1.0 and will be removed in 1.2. Please use get_feature_names_out instead.\n",
      "  warnings.warn(msg, category=FutureWarning)\n",
      "C:\\Users\\glets\\.conda\\envs\\ds\\lib\\site-packages\\sklearn\\utils\\deprecation.py:87: FutureWarning: Function get_feature_names is deprecated; get_feature_names is deprecated in 1.0 and will be removed in 1.2. Please use get_feature_names_out instead.\n",
      "  warnings.warn(msg, category=FutureWarning)\n"
     ]
    }
   ],
   "source": [
    "# Transformar em numérico\n",
    "\n",
    "transformer = make_column_transformer(\n",
    "    (OneHotEncoder(), ['embarked']),\n",
    "    remainder='passthrough')\n",
    "\n",
    "transformer.fit(X_train)\n",
    "\n",
    "transformed_train = transformer.transform(X_train)\n",
    "transformed_val= transformer.transform(X_val)\n",
    "transformed_test= transformer.transform(X_test)\n",
    "\n",
    "X_train = pd.DataFrame(\n",
    "    transformed_train, \n",
    "    columns=transformer.get_feature_names()\n",
    ")\n",
    "\n",
    "X_val = pd.DataFrame(\n",
    "    transformed_val, \n",
    "    columns=transformer.get_feature_names()\n",
    ")\n",
    "\n",
    "X_test = pd.DataFrame(\n",
    "    transformed_test, \n",
    "    columns=transformer.get_feature_names()\n",
    ")\n",
    "\n",
    "\n",
    "\n"
   ]
  },
  {
   "cell_type": "markdown",
   "id": "3d63c30d",
   "metadata": {},
   "source": [
    "### 3. Aplicação e avaliação do modelo"
   ]
  },
  {
   "cell_type": "code",
   "execution_count": 30,
   "id": "53735cfb",
   "metadata": {},
   "outputs": [
    {
     "data": {
      "text/html": [
       "<div>\n",
       "<style scoped>\n",
       "    .dataframe tbody tr th:only-of-type {\n",
       "        vertical-align: middle;\n",
       "    }\n",
       "\n",
       "    .dataframe tbody tr th {\n",
       "        vertical-align: top;\n",
       "    }\n",
       "\n",
       "    .dataframe thead th {\n",
       "        text-align: right;\n",
       "    }\n",
       "</style>\n",
       "<table border=\"1\" class=\"dataframe\">\n",
       "  <thead>\n",
       "    <tr style=\"text-align: right;\">\n",
       "      <th></th>\n",
       "      <th>onehotencoder__x0_C</th>\n",
       "      <th>onehotencoder__x0_Q</th>\n",
       "      <th>onehotencoder__x0_S</th>\n",
       "      <th>age</th>\n",
       "      <th>fare</th>\n",
       "      <th>pclass</th>\n",
       "      <th>sex</th>\n",
       "      <th>sibsp</th>\n",
       "      <th>parch</th>\n",
       "      <th>ticket</th>\n",
       "      <th>cabin</th>\n",
       "    </tr>\n",
       "  </thead>\n",
       "  <tbody>\n",
       "    <tr>\n",
       "      <th>0</th>\n",
       "      <td>0.0</td>\n",
       "      <td>1.0</td>\n",
       "      <td>0.0</td>\n",
       "      <td>-0.426683</td>\n",
       "      <td>-0.927385</td>\n",
       "      <td>3.0</td>\n",
       "      <td>0</td>\n",
       "      <td>0.0</td>\n",
       "      <td>0.0</td>\n",
       "      <td>371109</td>\n",
       "      <td>None</td>\n",
       "    </tr>\n",
       "    <tr>\n",
       "      <th>1</th>\n",
       "      <td>0.0</td>\n",
       "      <td>0.0</td>\n",
       "      <td>1.0</td>\n",
       "      <td>-0.350697</td>\n",
       "      <td>-0.33879</td>\n",
       "      <td>2.0</td>\n",
       "      <td>0</td>\n",
       "      <td>0.0</td>\n",
       "      <td>0.0</td>\n",
       "      <td>C.A. 29178</td>\n",
       "      <td>None</td>\n",
       "    </tr>\n",
       "  </tbody>\n",
       "</table>\n",
       "</div>"
      ],
      "text/plain": [
       "  onehotencoder__x0_C onehotencoder__x0_Q onehotencoder__x0_S       age  \\\n",
       "0                 0.0                 1.0                 0.0 -0.426683   \n",
       "1                 0.0                 0.0                 1.0 -0.350697   \n",
       "\n",
       "       fare pclass sex sibsp parch      ticket cabin  \n",
       "0 -0.927385    3.0   0   0.0   0.0      371109  None  \n",
       "1  -0.33879    2.0   0   0.0   0.0  C.A. 29178  None  "
      ]
     },
     "execution_count": 30,
     "metadata": {},
     "output_type": "execute_result"
    }
   ],
   "source": [
    "X_train.head(2)"
   ]
  },
  {
   "cell_type": "markdown",
   "id": "d7d349ba",
   "metadata": {},
   "source": [
    "* Não usaremos ticket, cabin, sibsp e parch no modelo"
   ]
  },
  {
   "cell_type": "code",
   "execution_count": 31,
   "id": "2d53ff31",
   "metadata": {},
   "outputs": [],
   "source": [
    "X_train = X_train.drop(['ticket', 'cabin', 'sibsp', 'parch'], axis = 1)\n",
    "X_val = X_val.drop(['ticket', 'cabin', 'sibsp', 'parch'], axis = 1)\n",
    "X_test = X_test.drop(['ticket', 'cabin', 'sibsp', 'parch'], axis = 1)\n"
   ]
  },
  {
   "cell_type": "code",
   "execution_count": 32,
   "id": "af5e1353",
   "metadata": {},
   "outputs": [
    {
     "name": "stdout",
     "output_type": "stream",
     "text": [
      "acurácia validação: 0.7575757575757576, acurácia teste: 0.7652439024390244\n"
     ]
    }
   ],
   "source": [
    "#teste\n",
    "\n",
    "model = KNN()\n",
    "model.fit(np.array(X_train), np.array(y_train))\n",
    "y_pred_val = model.predict(np.array(X_val), 4)\n",
    "y_pred_test = model.predict(np.array(X_test), 4)\n",
    "\n",
    "\n",
    "acc_val = accuracy_score(y_val, y_pred_val)\n",
    "acc_test = accuracy_score(y_test, y_pred_test)\n",
    "print(f\"acurácia validação: {acc_val}, acurácia teste: {acc_test}\")"
   ]
  },
  {
   "cell_type": "markdown",
   "id": "17c45806",
   "metadata": {},
   "source": [
    "### Executar o classificador para 30 k's pulando de 4 em 4 e apresente todas as acurácias utilizando o dataset de validação (Qual o melhor k?) [plotar um gráfico com os resultados]."
   ]
  },
  {
   "cell_type": "code",
   "execution_count": 33,
   "id": "234d8a98",
   "metadata": {
    "scrolled": true
   },
   "outputs": [
    {
     "name": "stdout",
     "output_type": "stream",
     "text": [
      "Para k = 4, acurácia = 0.7575757575757576\n",
      "Para k = 8, acurácia = 0.7777777777777778\n",
      "Para k = 12, acurácia = 0.7575757575757576\n",
      "Para k = 16, acurácia = 0.7777777777777778\n",
      "Para k = 20, acurácia = 0.797979797979798\n",
      "Para k = 24, acurácia = 0.7777777777777778\n",
      "Para k = 28, acurácia = 0.7878787878787878\n",
      "Para k = 32, acurácia = 0.8080808080808081\n",
      "Para k = 36, acurácia = 0.7777777777777778\n",
      "Para k = 40, acurácia = 0.7676767676767676\n",
      "Para k = 44, acurácia = 0.7575757575757576\n",
      "Para k = 48, acurácia = 0.7777777777777778\n",
      "Para k = 52, acurácia = 0.7676767676767676\n",
      "Para k = 56, acurácia = 0.7474747474747475\n",
      "Para k = 60, acurácia = 0.7373737373737373\n",
      "Para k = 64, acurácia = 0.7575757575757576\n",
      "Para k = 68, acurácia = 0.7474747474747475\n",
      "Para k = 72, acurácia = 0.7676767676767676\n",
      "Para k = 76, acurácia = 0.7777777777777778\n",
      "Para k = 80, acurácia = 0.7676767676767676\n",
      "Para k = 84, acurácia = 0.7676767676767676\n",
      "Para k = 88, acurácia = 0.7676767676767676\n",
      "Para k = 92, acurácia = 0.7474747474747475\n",
      "Para k = 96, acurácia = 0.7373737373737373\n",
      "Para k = 100, acurácia = 0.7171717171717171\n",
      "Para k = 104, acurácia = 0.696969696969697\n",
      "Para k = 108, acurácia = 0.696969696969697\n",
      "Para k = 112, acurácia = 0.696969696969697\n",
      "Para k = 116, acurácia = 0.7070707070707071\n",
      "Para k = 120, acurácia = 0.7070707070707071\n"
     ]
    }
   ],
   "source": [
    "results = []\n",
    "k_list = [x*4 for x in range(1, 31)]\n",
    "\n",
    "for k in k_list:\n",
    "    model = KNN()\n",
    "    model.fit(np.array(X_train), np.array(y_train))\n",
    "    y_pred_val = model.predict(np.array(X_val), k)\n",
    "    acc = accuracy_score(y_val, y_pred_val)\n",
    "    results.append(acc)\n",
    "    print(f\"Para k = {k}, acurácia = {acc}\")"
   ]
  },
  {
   "cell_type": "code",
   "execution_count": 34,
   "id": "63f419d5",
   "metadata": {
    "scrolled": true
   },
   "outputs": [
    {
     "data": {
      "image/png": "[encoded data removed]",
      "text/plain": [
       "<Figure size 1440x432 with 1 Axes>"
      ]
     },
     "metadata": {
      "needs_background": "light"
     },
     "output_type": "display_data"
    }
   ],
   "source": [
    "fig, ax = plt.subplots(figsize=(20,6))\n",
    "ax.plot(k_list, np.round(np.array(results)*100,2), marker='*')\n",
    "ax.set_xlabel('Número de vizinhos')\n",
    "ax.set_ylabel('% acurácia')\n",
    "ax.set_xticks(k_list)\n",
    "plt.show()"
   ]
  },
  {
   "cell_type": "markdown",
   "id": "b4688fe6",
   "metadata": {},
   "source": [
    "### O Modelo com k = 32 vizinhos é o que tem melhor desempenho. "
   ]
  },
  {
   "cell_type": "code",
   "execution_count": 35,
   "id": "f3141a47",
   "metadata": {},
   "outputs": [
    {
     "name": "stdout",
     "output_type": "stream",
     "text": [
      "acurácia validação: 0.8080808080808081, acurácia teste: 0.7926829268292683\n"
     ]
    }
   ],
   "source": [
    "model = KNN()\n",
    "model.fit(np.array(X_train), np.array(y_train))\n",
    "y_pred_val = model.predict(np.array(X_val), 32)\n",
    "y_pred_test = model.predict(np.array(X_test), 32)\n",
    "\n",
    "\n",
    "acc_val = accuracy_score(y_val, y_pred_val)\n",
    "acc_test = accuracy_score(y_test, y_pred_test)\n",
    "print(f\"acurácia validação: {acc_val}, acurácia teste: {acc_test}\")"
   ]
  },
  {
   "cell_type": "code",
   "execution_count": 36,
   "id": "d073edc9",
   "metadata": {},
   "outputs": [
    {
     "name": "stdout",
     "output_type": "stream",
     "text": [
      "              precision    recall  f1-score   support\n",
      "\n",
      "           0       0.81      0.87      0.84       206\n",
      "           1       0.75      0.66      0.70       122\n",
      "\n",
      "    accuracy                           0.79       328\n",
      "   macro avg       0.78      0.77      0.77       328\n",
      "weighted avg       0.79      0.79      0.79       328\n",
      "\n"
     ]
    }
   ],
   "source": [
    "print(classification_report(y_test, y_pred_test))"
   ]
  }
 ],
 "metadata": {
  "kernelspec": {
   "display_name": "Python 3 (ipykernel)",
   "language": "python",
   "name": "python3"
  },
  "language_info": {
   "codemirror_mode": {
    "name": "ipython",
    "version": 3
   },
   "file_extension": ".py",
   "mimetype": "text/x-python",
   "name": "python",
   "nbconvert_exporter": "python",
   "pygments_lexer": "ipython3",
   "version": "3.9.11"
  }
 },
 "nbformat": 4,
 "nbformat_minor": 5
}
