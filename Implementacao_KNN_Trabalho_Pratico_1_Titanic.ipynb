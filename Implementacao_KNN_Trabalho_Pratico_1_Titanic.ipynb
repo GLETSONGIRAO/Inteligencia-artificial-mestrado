{
 "cells": [
  {
   "cell_type": "code",
   "execution_count": 12,
   "id": "dd607527",
   "metadata": {},
   "outputs": [],
   "source": [
    "import numpy as np\n",
    "import seaborn as sns\n",
    "import pandas as pd\n",
    "import sklearn.datasets\n",
    "\n",
    "from sklearn.model_selection import train_test_split\n",
    "from sklearn.metrics import accuracy_score"
   ]
  },
  {
   "cell_type": "code",
   "execution_count": 13,
   "id": "7936cce2",
   "metadata": {},
   "outputs": [],
   "source": [
    "class KNN():\n",
    "    \n",
    "    def __init(self):\n",
    "        self.K = None\n",
    "        self.X_train = None\n",
    "        self.y_train = None\n",
    "        self.vizinhos_index = None\n",
    "        \n",
    "    def fit(self, X_train, y_train):\n",
    "        self.X_train = X_train\n",
    "        self.y_train = y_train\n",
    "        \n",
    "    def predict(self, X, K=1):\n",
    "        self.K = K\n",
    "        classes = np.unique(self.y_train)\n",
    "        y_pred = []\n",
    "        dist_total = []\n",
    "        self.vizinhos_index = []\n",
    "\n",
    "        for xi in X:\n",
    "            euclidistancias = -2 * xi @ self.X_train.T + (xi**2).sum() + (self.X_train**2).sum(axis=1)\n",
    "            \n",
    "            \n",
    "            knn_index = np.argsort(euclidistancias)[0:K]\n",
    "            self.vizinhos_index.append(knn_index)\n",
    "            contagem = []\n",
    "            dist_total = []\n",
    "            \n",
    "            for classe in classes:\n",
    "                contagem.append((self.y_train[knn_index]==classe).sum())\n",
    "                dist_classe = np.sum(euclidistancias[knn_index][self.y_train[knn_index]==classe])\n",
    "                dist_total.append(dist_classe)\n",
    "                \n",
    "            contagem = np.array(contagem)\n",
    "            \n",
    "            #criar lista de classes empatadas\n",
    "            indice_classes_empatadas = []\n",
    "            for i in range(len(contagem)):\n",
    "                if contagem[i] == max(contagem):\n",
    "                    indice_classes_empatadas.append(i)\n",
    "            \n",
    "            # Popular y_pred com as duas regras de decisão: \n",
    "                # Se não empate: classe com maior votação\n",
    "                # Se empate: classe com menor distância entre as classes empatadas\n",
    "            \n",
    "            dist_total = np.array(dist_total)\n",
    "\n",
    "            if len(indice_classes_empatadas) == 1:\n",
    "                pred_index = np.argmax(contagem)\n",
    "                y_pred.append(classes[pred_index])\n",
    "                \n",
    "                \n",
    "    \n",
    "            else:\n",
    "                # menor valor das distancias totais que estão com a mesma quantidade de votos\n",
    "                menor_valor = np.min(dist_total[indice_classes_empatadas])\n",
    "                \n",
    "                # indice da menor distancia contando todas as distâncias\n",
    "                indice_menor_dist = np.where(dist_total == menor_valor)[0][0]\n",
    "                \n",
    "                # Predição pra essa instância = Classe que tem a menor distancia\n",
    "                y_pred.append(classes[indice_menor_dist])\n",
    "            \n",
    "\n",
    "            \n",
    "        return np.array(y_pred)"
   ]
  },
  {
   "cell_type": "code",
   "execution_count": 14,
   "id": "13642f3b",
   "metadata": {},
   "outputs": [],
   "source": [
    "from sklearn.datasets import load_breast_cancer\n",
    "X, y = load_breast_cancer(return_X_y=True)\n",
    "\n",
    "X_train, X_test, y_train, y_test = train_test_split(X, y, test_size=0.25, random_state=13)"
   ]
  },
  {
   "cell_type": "code",
   "execution_count": 16,
   "id": "bd5c0fc5",
   "metadata": {},
   "outputs": [],
   "source": [
    "knn.fit(X_train, y_train)"
   ]
  },
  {
   "cell_type": "code",
   "execution_count": 24,
   "id": "ce2c8594",
   "metadata": {},
   "outputs": [
    {
     "data": {
      "text/plain": [
       "array([[1.221e+01, 1.409e+01, 7.878e+01, ..., 9.140e-02, 2.677e-01,\n",
       "        8.824e-02],\n",
       "       [9.742e+00, 1.912e+01, 6.193e+01, ..., 4.589e-02, 3.196e-01,\n",
       "        8.009e-02],\n",
       "       [1.057e+01, 1.832e+01, 6.682e+01, ..., 2.222e-02, 2.699e-01,\n",
       "        6.736e-02],\n",
       "       ...,\n",
       "       [1.231e+01, 1.652e+01, 7.919e+01, ..., 8.660e-02, 2.618e-01,\n",
       "        7.609e-02],\n",
       "       [9.904e+00, 1.806e+01, 6.460e+01, ..., 9.910e-02, 2.614e-01,\n",
       "        1.162e-01],\n",
       "       [1.005e+01, 1.753e+01, 6.441e+01, ..., 6.499e-02, 2.894e-01,\n",
       "        7.664e-02]])"
      ]
     },
     "execution_count": 24,
     "metadata": {},
     "output_type": "execute_result"
    }
   ],
   "source": [
    "knn.X_train"
   ]
  },
  {
   "cell_type": "code",
   "execution_count": 17,
   "id": "c64a865b",
   "metadata": {},
   "outputs": [],
   "source": [
    "y_pred = knn.predict(X_test, 4)"
   ]
  },
  {
   "cell_type": "code",
   "execution_count": 10,
   "id": "7e357113",
   "metadata": {
    "scrolled": false
   },
   "outputs": [
    {
     "data": {
      "text/plain": [
       "[array([381, 419, 107, 355], dtype=int64),\n",
       " array([ 58, 352,  14, 153], dtype=int64),\n",
       " array([ 99,  36, 132, 151], dtype=int64),\n",
       " array([282, 313,  94, 381], dtype=int64),\n",
       " array([330, 347, 152, 151], dtype=int64),\n",
       " array([159, 337, 110, 138], dtype=int64),\n",
       " array([ 42, 107, 419, 380], dtype=int64),\n",
       " array([400, 399, 176, 265], dtype=int64),\n",
       " array([281, 339, 133,  60], dtype=int64),\n",
       " array([101, 361,  41, 229], dtype=int64),\n",
       " array([130, 406, 391, 232], dtype=int64),\n",
       " array([397, 233,  27, 192], dtype=int64),\n",
       " array([378, 383,   0, 393], dtype=int64),\n",
       " array([158, 403, 410, 111], dtype=int64),\n",
       " array([194, 395, 353, 189], dtype=int64),\n",
       " array([314, 160, 125,  38], dtype=int64),\n",
       " array([163, 417, 186, 335], dtype=int64),\n",
       " array([329, 314, 160, 352], dtype=int64),\n",
       " array([372,  60, 339, 119], dtype=int64),\n",
       " array([111, 124, 316, 158], dtype=int64),\n",
       " array([ 16,  38, 272,  34], dtype=int64),\n",
       " array([282, 313,  94, 381], dtype=int64),\n",
       " array([128, 273,  45, 209], dtype=int64),\n",
       " array([269, 332, 115,  10], dtype=int64),\n",
       " array([115, 332, 269,  57], dtype=int64),\n",
       " array([381, 355, 416, 313], dtype=int64),\n",
       " array([237, 201,  66, 290], dtype=int64),\n",
       " array([164, 136, 371, 203], dtype=int64),\n",
       " array([281, 374, 339, 133], dtype=int64),\n",
       " array([357, 368,  84,  98], dtype=int64),\n",
       " array([128,  51, 273, 209], dtype=int64),\n",
       " array([266, 408, 188, 240], dtype=int64),\n",
       " array([ 38, 272,  16, 234], dtype=int64),\n",
       " array([352, 153,  14,  72], dtype=int64),\n",
       " array([118, 303, 250, 225], dtype=int64),\n",
       " array([341, 231, 226,  45], dtype=int64),\n",
       " array([267,  74,  55, 131], dtype=int64),\n",
       " array([178, 254, 104, 187], dtype=int64),\n",
       " array([273, 263, 218,  63], dtype=int64),\n",
       " array([209,  87, 398, 298], dtype=int64),\n",
       " array([416,  12, 381, 107], dtype=int64),\n",
       " array([319, 276,  84,  50], dtype=int64),\n",
       " array([ 60, 302, 372, 332], dtype=int64),\n",
       " array([264, 306, 269, 113], dtype=int64),\n",
       " array([423, 331,  82, 271], dtype=int64),\n",
       " array([333, 103, 147, 399], dtype=int64),\n",
       " array([425, 354, 292,  44], dtype=int64),\n",
       " array([337, 159, 110, 138], dtype=int64),\n",
       " array([128,  45, 273, 231], dtype=int64),\n",
       " array([261, 179,  25, 279], dtype=int64),\n",
       " array([227, 305,  28,  76], dtype=int64),\n",
       " array([ 15,  77, 191,   8], dtype=int64),\n",
       " array([181, 198,  39,  20], dtype=int64),\n",
       " array([  2, 167, 239, 210], dtype=int64),\n",
       " array([423,  82, 331, 244], dtype=int64),\n",
       " array([319,  84, 276, 357], dtype=int64),\n",
       " array([205, 133, 306,  83], dtype=int64),\n",
       " array([ 20, 198, 195,  39], dtype=int64),\n",
       " array([ 85, 140, 197, 123], dtype=int64),\n",
       " array([260, 252, 328, 383], dtype=int64),\n",
       " array([ 64, 157, 177, 172], dtype=int64),\n",
       " array([271, 244,  34,  16], dtype=int64),\n",
       " array([284,  94, 165, 343], dtype=int64),\n",
       " array([ 29, 162,  52, 248], dtype=int64),\n",
       " array([ 25, 261,  69, 238], dtype=int64),\n",
       " array([163, 186, 417, 262], dtype=int64),\n",
       " array([390, 323, 343, 134], dtype=int64),\n",
       " array([ 72, 415, 394,  14], dtype=int64),\n",
       " array([210, 167,   2, 220], dtype=int64),\n",
       " array([ 91, 139, 207, 211], dtype=int64),\n",
       " array([ 56, 338,  62, 385], dtype=int64),\n",
       " array([101, 300, 263, 364], dtype=int64),\n",
       " array([270, 168, 315,  17], dtype=int64),\n",
       " array([348,  40,  64,  11], dtype=int64),\n",
       " array([ 50, 195, 319, 276], dtype=int64),\n",
       " array([331, 423,  82, 244], dtype=int64),\n",
       " array([410, 403, 256, 181], dtype=int64),\n",
       " array([  7, 200,  53, 280], dtype=int64),\n",
       " array([425, 220,  78, 354], dtype=int64),\n",
       " array([338, 385,  62,  92], dtype=int64),\n",
       " array([219, 260, 349, 397], dtype=int64),\n",
       " array([ 99,  81, 138, 242], dtype=int64),\n",
       " array([ 12, 390, 134, 370], dtype=int64),\n",
       " array([280,   7,  53, 179], dtype=int64),\n",
       " array([ 83, 169, 180, 318], dtype=int64),\n",
       " array([118, 250, 303, 225], dtype=int64),\n",
       " array([195,  20, 198, 225], dtype=int64),\n",
       " array([289, 207,  11, 211], dtype=int64),\n",
       " array([399, 333, 275, 350], dtype=int64),\n",
       " array([200,  53,   7, 322], dtype=int64),\n",
       " array([ 13, 393, 224, 275], dtype=int64),\n",
       " array([392, 121,  76, 344], dtype=int64),\n",
       " array([176, 265,  86,  24], dtype=int64),\n",
       " array([  4, 391, 130,  35], dtype=int64),\n",
       " array([281, 339, 133, 374], dtype=int64),\n",
       " array([ 33, 362,  43, 200], dtype=int64),\n",
       " array([151,  36, 347, 421], dtype=int64),\n",
       " array([244, 271,  34,  16], dtype=int64),\n",
       " array([243, 364, 143,  63], dtype=int64),\n",
       " array([145, 401,  28,  76], dtype=int64),\n",
       " array([154, 264, 394,  14], dtype=int64),\n",
       " array([380, 156,  42, 135], dtype=int64),\n",
       " array([365, 187, 132, 387], dtype=int64),\n",
       " array([254, 104, 421, 187], dtype=int64),\n",
       " array([327,  74, 359,  94], dtype=int64),\n",
       " array([ 94, 255, 193, 284], dtype=int64),\n",
       " array([157,  64, 172, 177], dtype=int64),\n",
       " array([ 61,   5, 123, 202], dtype=int64),\n",
       " array([266, 240, 408, 188], dtype=int64),\n",
       " array([209, 128, 298,  51], dtype=int64),\n",
       " array([402, 370, 117, 116], dtype=int64),\n",
       " array([248, 367, 356,  29], dtype=int64),\n",
       " array([380,  31, 345, 202], dtype=int64),\n",
       " array([331, 423, 271,  82], dtype=int64),\n",
       " array([ 28,  76, 227, 344], dtype=int64),\n",
       " array([239,  97,  80, 167], dtype=int64),\n",
       " array([420, 276, 319,  65], dtype=int64),\n",
       " array([330, 347,  18, 369], dtype=int64),\n",
       " array([192,  93,  18,  75], dtype=int64),\n",
       " array([206,   9,  47, 292], dtype=int64),\n",
       " array([298, 371, 164,  87], dtype=int64),\n",
       " array([119,   0, 339, 142], dtype=int64),\n",
       " array([ 19, 127, 288, 305], dtype=int64),\n",
       " array([ 41, 229, 317, 361], dtype=int64),\n",
       " array([339, 374,  60, 302], dtype=int64),\n",
       " array([305, 227, 127, 288], dtype=int64),\n",
       " array([340, 220,  78, 315], dtype=int64),\n",
       " array([344, 102,  76, 392], dtype=int64),\n",
       " array([196, 277, 289, 135], dtype=int64),\n",
       " array([279, 409, 322, 179], dtype=int64),\n",
       " array([ 89,  83, 109, 257], dtype=int64),\n",
       " array([ 72, 415,  14, 394], dtype=int64),\n",
       " array([ 15,   8,  77, 108], dtype=int64),\n",
       " array([179,  25, 261,  53], dtype=int64),\n",
       " array([ 77, 403, 108, 171], dtype=int64),\n",
       " array([102, 344,  76,  65], dtype=int64),\n",
       " array([ 12, 416, 134, 323], dtype=int64),\n",
       " array([ 79, 411, 379, 404], dtype=int64),\n",
       " array([395,  31, 353, 194], dtype=int64),\n",
       " array([ 21, 307, 420,  50], dtype=int64),\n",
       " array([170, 424, 413, 377], dtype=int64),\n",
       " array([415,  72, 394,  10], dtype=int64),\n",
       " array([145, 401,  65, 420], dtype=int64)]"
      ]
     },
     "execution_count": 10,
     "metadata": {},
     "output_type": "execute_result"
    }
   ],
   "source": [
    "knn.vizinhos_index"
   ]
  },
  {
   "cell_type": "code",
   "execution_count": 20,
   "id": "68b37869",
   "metadata": {},
   "outputs": [
    {
     "data": {
      "text/plain": [
       "(569, 30)"
      ]
     },
     "execution_count": 20,
     "metadata": {},
     "output_type": "execute_result"
    }
   ],
   "source": [
    "XX.shape"
   ]
  },
  {
   "cell_type": "code",
   "execution_count": 11,
   "id": "4d7de1bf",
   "metadata": {},
   "outputs": [
    {
     "data": {
      "text/plain": [
       "0.916083916083916"
      ]
     },
     "execution_count": 11,
     "metadata": {},
     "output_type": "execute_result"
    }
   ],
   "source": [
    "accuracy_score(y_pred, y_test)"
   ]
  },
  {
   "cell_type": "code",
   "execution_count": null,
   "id": "a189e7bc",
   "metadata": {},
   "outputs": [],
   "source": []
  },
  {
   "cell_type": "code",
   "execution_count": null,
   "id": "76d5e1fd",
   "metadata": {},
   "outputs": [],
   "source": [
    "# Modelo com código procedural\n",
    "\n",
    "K = 4\n",
    "classes = np.unique(y_train)\n",
    "y_pred = []\n",
    "vizinhos_index = []\n",
    "        \n",
    "for xi in X_test:\n",
    "    euclidistancias = -2 * xi @ X_train.T + (xi**2).sum() + (X_train**2).sum(axis=1)\n",
    "            \n",
    "    knn_index = np.argsort(euclidistancias)[0:K]\n",
    "    vizinhos_index.append(knn_index)\n",
    "    \n",
    "    contagem = []\n",
    "    dist_total = []\n",
    "    \n",
    "    for classe in classes:\n",
    "        contagem.append((y_train[knn_index]==classe).sum())\n",
    "        dist_classe = np.sum(euclidistancias[knn_index][y_train[knn_index]==classe])\n",
    "        dist_total.append(dist_classe)\n",
    "    \n",
    "    contagem = np.array(contagem)\n",
    "    \n",
    "    #criar lista de classes empatadas\n",
    "    indice_classes_empatadas = []\n",
    "    for i in range(len(contagem)):\n",
    "        if contagem[i] == max(contagem):\n",
    "            indice_classes_empatadas.append(i)\n",
    "      \n",
    "    # Popular y_pred com as duas regras de decisão: \n",
    "        # Se não empate: classe com maior votação\n",
    "        # Se empate: classe com menor distância entre as classes empatadas\n",
    "    \n",
    "    dist_total = np.array(dist_total)\n",
    "    \n",
    "    if len(indice_classes_empatadas) == 1:\n",
    "        pred_index = np.argmax(contagem)\n",
    "        y_pred.append(classes[pred_index])\n",
    "    \n",
    "    else:\n",
    "        # menor valor das distancias totais que estão com a mesma quantidade de votos\n",
    "        menor_valor = np.min(dist_total[indice_classes_empatadas])\n",
    "\n",
    "        # indice da menor distancia contando todas as distâncias\n",
    "        indice_menor_dist = np.where(dist_total == menor_valor)[0][0]\n",
    "\n",
    "        # Classe que tem a menor distancia\n",
    "        y_pred.append(classes[indice_menor_dist])\n",
    "        \n",
    "        #bloco de teste\n",
    "        print(\"----------------------------Check de sanidade para instâncias com empate-----------------------------\")\n",
    "\n",
    "        print(\"contagem: \")\n",
    "        print(contagem)\n",
    "        print(\"dist_total: \")\n",
    "        print(dist_total)\n",
    "        print(\"menor_valor: \")\n",
    "        print(menor_valor)\n",
    "        print(\"indice_menor_dist: \")\n",
    "        print(indice_menor_dist)\n",
    "        \n",
    "        \n",
    "            \n",
    "y_pred = np.array(y_pred)"
   ]
  },
  {
   "cell_type": "code",
   "execution_count": null,
   "id": "7d3e7e4a",
   "metadata": {},
   "outputs": [],
   "source": [
    "(y_train[knn_index]==classe)"
   ]
  },
  {
   "cell_type": "code",
   "execution_count": null,
   "id": "6f07f79d",
   "metadata": {},
   "outputs": [],
   "source": [
    "((y_train[knn_index]==classe).sum())"
   ]
  },
  {
   "cell_type": "code",
   "execution_count": null,
   "id": "55b31e0e",
   "metadata": {},
   "outputs": [],
   "source": [
    "vizinhos_index"
   ]
  },
  {
   "cell_type": "code",
   "execution_count": null,
   "id": "3c6d1a95",
   "metadata": {
    "scrolled": false
   },
   "outputs": [],
   "source": [
    "euclidistancias"
   ]
  },
  {
   "cell_type": "code",
   "execution_count": null,
   "id": "522c21de",
   "metadata": {},
   "outputs": [],
   "source": [
    "knn_index"
   ]
  },
  {
   "cell_type": "code",
   "execution_count": null,
   "id": "5793b040",
   "metadata": {},
   "outputs": [],
   "source": [
    "dist_total"
   ]
  },
  {
   "cell_type": "code",
   "execution_count": null,
   "id": "254886b3",
   "metadata": {},
   "outputs": [],
   "source": [
    "accuracy_score(y_pred, y_test)"
   ]
  },
  {
   "cell_type": "code",
   "execution_count": null,
   "id": "b35fa990",
   "metadata": {},
   "outputs": [],
   "source": [
    "# Modelo com código procedural\n",
    "\n",
    "K = 4\n",
    "classes = np.unique(y_train)\n",
    "y_pred = []\n",
    "vizinhos_index = []\n",
    "        \n",
    "for xi in X_test:\n",
    "    \n",
    "    euclidistancias = -2 * xi @ X_train.T + (xi**2).sum() + (X_train**2).sum(axis=1)        \n",
    "    knn_index = np.argsort(euclidistancias)[0:K]\n",
    "    vizinhos_index.append(knn_index)\n",
    "    \n",
    "    contagem = []\n",
    "    dist_total = []\n",
    "    \n",
    "    for classe in classes:\n",
    "        contagem.append((y_train[knn_index]==classe).sum())\n",
    "        dist_classe = np.sum(euclidistancias[knn_index][y_train[knn_index]==classe])\n",
    "        dist_total.append(dist_classe)\n",
    "    \n",
    "    contagem = np.array(contagem)\n",
    "    indice_classes_empatadas = []\n",
    "    for i in range(len(contagem)):\n",
    "        if contagem[i] == max(contagem):\n",
    "            indice_classes_empatadas.append(i)\n",
    "          \n",
    "    dist_total = np.array(dist_total)\n",
    "    \n",
    "    if len(indice_classes_empatadas) == 1:\n",
    "        pred_index = np.argmax(contagem)\n",
    "        y_pred.append(classes[pred_index])\n",
    "    \n",
    "    else:\n",
    "        menor_valor = np.min(dist_total[indice_classes_empatadas])\n",
    "        indice_menor_dist = np.where(dist_total == menor_valor)[0][0]\n",
    "        y_pred.append(classes[indice_menor_dist])\n",
    "                        \n",
    "y_pred = np.array(y_pred)"
   ]
  },
  {
   "cell_type": "code",
   "execution_count": null,
   "id": "d1cc84bf",
   "metadata": {},
   "outputs": [],
   "source": [
    "K = 4\n",
    "classes = np.unique(y_train)\n",
    "y_pred = []\n",
    "vizinhos_index = []"
   ]
  },
  {
   "cell_type": "code",
   "execution_count": null,
   "id": "8bc91540",
   "metadata": {},
   "outputs": [],
   "source": [
    "classes"
   ]
  }
 ],
 "metadata": {
  "kernelspec": {
   "display_name": "Python 3 (ipykernel)",
   "language": "python",
   "name": "python3"
  },
  "language_info": {
   "codemirror_mode": {
    "name": "ipython",
    "version": 3
   },
   "file_extension": ".py",
   "mimetype": "text/x-python",
   "name": "python",
   "nbconvert_exporter": "python",
   "pygments_lexer": "ipython3",
   "version": "3.9.11"
  }
 },
 "nbformat": 4,
 "nbformat_minor": 5
}
